{
 "cells": [
  {
   "cell_type": "code",
   "execution_count": 1,
   "metadata": {},
   "outputs": [],
   "source": [
    "import torch\n",
    "import sys\n",
    "sys.path.append(\"../\")\n",
    "from Models.ResNet import ResnetClassifier\n",
    "from Data.Data import DiffractionDataset"
   ]
  },
  {
   "cell_type": "code",
   "execution_count": 2,
   "metadata": {},
   "outputs": [],
   "source": [
    "#Load dataset models\n",
    "ds=DiffractionDataset(\"../Data/BravaisLattice_Data.pt\", categorical='Bravais Lattice')\n",
    "resnet=ResnetClassifier(num_classes=14)\n",
    "resnet.eval()\n",
    "models=torch.load('../Models/BravaisModels.pth')"
   ]
  },
  {
   "cell_type": "code",
   "execution_count": 3,
   "metadata": {},
   "outputs": [
    {
     "data": {
      "text/plain": [
       "<All keys matched successfully>"
      ]
     },
     "execution_count": 3,
     "metadata": {},
     "output_type": "execute_result"
    }
   ],
   "source": [
    "#Load Semi-supervised Model using 50% of the data for labeled training\n",
    "resnet.load_state_dict(models['SGAN'])"
   ]
  },
  {
   "cell_type": "code",
   "execution_count": 4,
   "metadata": {},
   "outputs": [
    {
     "name": "stdout",
     "output_type": "stream",
     "text": [
      "Predictions: tensor([ 9,  0,  3,  5,  9, 13,  3,  0,  3, 11])\n",
      "Labels:      tensor([ 9,  0,  3, 12,  9,  4,  3,  0,  3, 11])\n",
      "Accuracy: 80.0 %\n"
     ]
    }
   ],
   "source": [
    "#Evaluate the model and print the accuracy\n",
    "sgan_output=resnet(ds.data)\n",
    "print(\"Predictions:\" ,sgan_output.predictions)\n",
    "print(\"Labels:     \" ,ds.labels)\n",
    "print(\"Accuracy:\" , sgan_output.accuracy(ds.labels), \"%\")"
   ]
  },
  {
   "cell_type": "code",
   "execution_count": 5,
   "metadata": {
    "scrolled": true
   },
   "outputs": [
    {
     "name": "stdout",
     "output_type": "stream",
     "text": [
      "Index          True Label          Prediction\n",
      "  0     orthorhombic (P)     orthorhombic (P)\n",
      "  1            cubic (F)            cubic (F)\n",
      "  2        hexagonal (P)        hexagonal (P)\n",
      "  3       tetragonal (P)       monoclinic (P)\n",
      "  4     orthorhombic (P)     orthorhombic (P)\n",
      "  5       monoclinic (C)        triclinic (P)\n",
      "  6        hexagonal (P)        hexagonal (P)\n",
      "  7            cubic (F)            cubic (F)\n",
      "  8        hexagonal (P)        hexagonal (P)\n",
      "  9       tetragonal (I)       tetragonal (I)\n"
     ]
    }
   ],
   "source": [
    "#Compare the predictions of the SGAN to the labels\n",
    "ds.compare(sgan_output.predictions)"
   ]
  },
  {
   "cell_type": "code",
   "execution_count": 6,
   "metadata": {},
   "outputs": [
    {
     "data": {
      "text/plain": [
       "<All keys matched successfully>"
      ]
     },
     "execution_count": 6,
     "metadata": {},
     "output_type": "execute_result"
    }
   ],
   "source": [
    "#Load the Supervised Model using 90% of the data\n",
    "resnet.load_state_dict(models['Supervised'])"
   ]
  },
  {
   "cell_type": "code",
   "execution_count": 7,
   "metadata": {},
   "outputs": [
    {
     "name": "stdout",
     "output_type": "stream",
     "text": [
      "Predictions: tensor([12,  0,  3, 11,  9, 13,  3,  0,  3, 11])\n",
      "Labels:      tensor([ 9,  0,  3, 12,  9,  4,  3,  0,  3, 11])\n",
      "Accuracy: 70.0 %\n"
     ]
    }
   ],
   "source": [
    "#Evaluate the model and print the accuracy\n",
    "supervised_output=resnet(ds.data)\n",
    "print(\"Predictions:\", supervised_output.predictions)\n",
    "print(\"Labels:     \",ds.labels)\n",
    "print(\"Accuracy:\",supervised_output.accuracy(ds.labels),\"%\")"
   ]
  },
  {
   "cell_type": "code",
   "execution_count": 8,
   "metadata": {},
   "outputs": [
    {
     "name": "stdout",
     "output_type": "stream",
     "text": [
      "Index          True Label          Prediction\n",
      "  0     orthorhombic (P)       tetragonal (P)\n",
      "  1            cubic (F)            cubic (F)\n",
      "  2        hexagonal (P)        hexagonal (P)\n",
      "  3       tetragonal (P)       tetragonal (I)\n",
      "  4     orthorhombic (P)     orthorhombic (P)\n",
      "  5       monoclinic (C)        triclinic (P)\n",
      "  6        hexagonal (P)        hexagonal (P)\n",
      "  7            cubic (F)            cubic (F)\n",
      "  8        hexagonal (P)        hexagonal (P)\n",
      "  9       tetragonal (I)       tetragonal (I)\n"
     ]
    }
   ],
   "source": [
    "#Compare the predictions of the supervised model to the labels\n",
    "ds.compare(supervised_output.predictions)"
   ]
  },
  {
   "cell_type": "code",
   "execution_count": 9,
   "metadata": {},
   "outputs": [
    {
     "name": "stdout",
     "output_type": "stream",
     "text": [
      "Index          True Label                SGAN          Supervised\n",
      "  0     orthorhombic (P)     orthorhombic (P)       tetragonal (P)\n",
      "  1            cubic (F)            cubic (F)            cubic (F)\n",
      "  2        hexagonal (P)        hexagonal (P)        hexagonal (P)\n",
      "  3       tetragonal (P)       monoclinic (P)       tetragonal (I)\n",
      "  4     orthorhombic (P)     orthorhombic (P)     orthorhombic (P)\n",
      "  5       monoclinic (C)        triclinic (P)        triclinic (P)\n",
      "  6        hexagonal (P)        hexagonal (P)        hexagonal (P)\n",
      "  7            cubic (F)            cubic (F)            cubic (F)\n",
      "  8        hexagonal (P)        hexagonal (P)        hexagonal (P)\n",
      "  9       tetragonal (I)       tetragonal (I)       tetragonal (I)\n"
     ]
    }
   ],
   "source": [
    "#Compare the SGAN predictions to the Supervised model predictions\n",
    "ds.compare(sgan_output.predictions, supervised_output.predictions, ['SGAN', 'Supervised'])"
   ]
  }
 ],
 "metadata": {
  "kernelspec": {
   "display_name": "Python 3 (ipykernel)",
   "language": "python",
   "name": "python3"
  },
  "language_info": {
   "codemirror_mode": {
    "name": "ipython",
    "version": 3
   },
   "file_extension": ".py",
   "mimetype": "text/x-python",
   "name": "python",
   "nbconvert_exporter": "python",
   "pygments_lexer": "ipython3",
   "version": "3.9.0"
  }
 },
 "nbformat": 4,
 "nbformat_minor": 4
}
