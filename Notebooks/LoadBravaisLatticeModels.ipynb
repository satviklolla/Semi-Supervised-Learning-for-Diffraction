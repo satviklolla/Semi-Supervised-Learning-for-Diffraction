{
 "cells": [
  {
   "cell_type": "code",
   "execution_count": 3,
   "metadata": {},
   "outputs": [],
   "source": [
    "import torch\n",
    "import sys\n",
    "sys.path.append(\"../\")\n",
    "from Models.ResNet import ResnetConfig, ResnetClassifier\n",
    "from Data.Data import DiffractionDataset"
   ]
  },
  {
   "cell_type": "code",
   "execution_count": 7,
   "metadata": {},
   "outputs": [],
   "source": [
    "test_dataset=DiffractionDataset(\"../Data/BravaisLattice_Data.pt\", categorical='Bravais Lattice')"
   ]
  },
  {
   "cell_type": "code",
   "execution_count": 9,
   "metadata": {},
   "outputs": [
    {
     "data": {
      "text/plain": [
       "<All keys matched successfully>"
      ]
     },
     "execution_count": 9,
     "metadata": {},
     "output_type": "execute_result"
    }
   ],
   "source": [
    "#Semi-supervised Model using 50% of the data for labeled training\n",
    "state_dict=torch.load(\"../Models/Bravais_model_SGAN.pth\")\n",
    "config = ResnetConfig(\n",
    "        input_dim = 1,\n",
    "        output_dim = 14,\n",
    "        res_dims=[32, 64, 64, 64],\n",
    "        res_kernel=[5, 7, 17, 13],\n",
    "        res_stride=[4, 4, 5, 3],\n",
    "        num_blocks=[2, 2, 2, 2],\n",
    "        first_kernel_size = 13,\n",
    "        first_stride = 1,\n",
    "        first_pool_kernel_size = 7,\n",
    "        first_pool_stride = 7,\n",
    "    )\n",
    "net=ResnetClassifier(config)\n",
    "net.eval().float()\n",
    "net.load_state_dict(state_dict['model_state_dict'])"
   ]
  },
  {
   "cell_type": "code",
   "execution_count": 10,
   "metadata": {},
   "outputs": [
    {
     "name": "stdout",
     "output_type": "stream",
     "text": [
      "tensor([ 9,  0,  3,  5,  9, 13,  3,  0,  3, 11])\n",
      "tensor([ 9,  0,  3, 12,  9,  4,  3,  0,  3, 11])\n"
     ]
    }
   ],
   "source": [
    "logits=net(test_dataset.data).logits\n",
    "predictions=torch.flatten(torch.argmax(logits, dim=-1))\n",
    "print(predictions)\n",
    "print(test_dataset.labels)"
   ]
  },
  {
   "cell_type": "code",
   "execution_count": 11,
   "metadata": {},
   "outputs": [
    {
     "name": "stdout",
     "output_type": "stream",
     "text": [
      "tensor(0.8000)\n"
     ]
    }
   ],
   "source": [
    "accuracy=(torch.sum((predictions==test_dataset.labels))/len(predictions))\n",
    "print(accuracy)"
   ]
  },
  {
   "cell_type": "code",
   "execution_count": 12,
   "metadata": {},
   "outputs": [
    {
     "data": {
      "text/plain": [
       "<All keys matched successfully>"
      ]
     },
     "execution_count": 12,
     "metadata": {},
     "output_type": "execute_result"
    }
   ],
   "source": [
    "#Supervised Model using 90% of the data\n",
    "supervised=ResnetClassifier(config)\n",
    "supervised.eval().float()\n",
    "state_dict=torch.load(\"../Models/Bravais_model_supervised.pth\")\n",
    "supervised.load_state_dict(state_dict['model_state_dict'])"
   ]
  },
  {
   "cell_type": "code",
   "execution_count": 13,
   "metadata": {},
   "outputs": [
    {
     "name": "stdout",
     "output_type": "stream",
     "text": [
      "tensor([12,  0,  3, 11,  9, 13,  3,  0,  3, 11])\n",
      "tensor([ 9,  0,  3, 12,  9,  4,  3,  0,  3, 11])\n"
     ]
    }
   ],
   "source": [
    "logits=supervised(test_dataset.data).logits\n",
    "predictions=torch.flatten(torch.argmax(logits, dim=-1))\n",
    "print(predictions)\n",
    "print(test_dataset.labels)"
   ]
  },
  {
   "cell_type": "code",
   "execution_count": 14,
   "metadata": {},
   "outputs": [
    {
     "name": "stdout",
     "output_type": "stream",
     "text": [
      "tensor(0.7000)\n"
     ]
    }
   ],
   "source": [
    "accuracy=(torch.sum((predictions==test_dataset.labels))/len(predictions))\n",
    "print(accuracy)"
   ]
  }
 ],
 "metadata": {
  "kernelspec": {
   "display_name": "Python 3 (ipykernel)",
   "language": "python",
   "name": "python3"
  },
  "language_info": {
   "codemirror_mode": {
    "name": "ipython",
    "version": 3
   },
   "file_extension": ".py",
   "mimetype": "text/x-python",
   "name": "python",
   "nbconvert_exporter": "python",
   "pygments_lexer": "ipython3",
   "version": "3.9.0"
  }
 },
 "nbformat": 4,
 "nbformat_minor": 4
}
